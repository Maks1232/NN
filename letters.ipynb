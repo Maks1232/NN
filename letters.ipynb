{
 "cells": [
  {
   "cell_type": "code",
   "execution_count": null,
   "id": "ad7c45e6-5215-4c40-9688-6164b1199e6b",
   "metadata": {},
   "outputs": [],
   "source": [
    "def extract_letters_from_word_image(image_path):\n",
    "    image = cv2.imread(image_path, cv2.IMREAD_GRAYSCALE)\n",
    "    \n",
    "    _, thresh = cv2.threshold(image, 128, 255, cv2.THRESH_BINARY_INV | cv2.THRESH_OTSU)\n",
    "\n",
    "    contours, _ = cv2.findContours(thresh, cv2.RETR_EXTERNAL, cv2.CHAIN_APPROX_SIMPLE)\n",
    "    \n",
    "    contours = sorted(contours, key=lambda ctr: cv2.boundingRect(ctr)[0])\n",
    "\n",
    "    letter_images = []\n",
    "    for contour in contours:\n",
    "        x, y, w, h = cv2.boundingRect(contour)\n",
    "        if w > 5 and h > 5:  # Ignore very small contours\n",
    "            letter_crop = image[y:y+h, x:x+w]\n",
    "            letter_images.append(letter_crop)\n",
    "\n",
    "    return letter_images"
   ]
  },
  {
   "cell_type": "code",
   "execution_count": null,
   "id": "24972324-6a16-471e-9345-4a33e4b5914f",
   "metadata": {},
   "outputs": [],
   "source": [
    "import random\n",
    "\n",
    "def display_random_images(dataset, num_images=10):\n",
    "    random_samples = random.sample(dataset, num_images)\n",
    "    plt.figure(figsize=(15, 5))\n",
    "\n",
    "    for i, (img, char) in enumerate(random_samples):\n",
    "        plt.subplot(2, 5, i + 1)\n",
    "        plt.imshow(img, cmap='gray')\n",
    "        plt.title(f\"Label: {char}\")\n",
    "\n",
    "    plt.tight_layout()\n",
    "    plt.show()\n",
    "\n",
    "display_random_images(letters_dataset)"
   ]
  },
  {
   "cell_type": "code",
   "execution_count": null,
   "id": "086b1b41-a82f-4353-b98d-f807b4f1f653",
   "metadata": {},
   "outputs": [],
   "source": [
    "sentences_txt_path = os.path.join(\"Datasets\", \"words_new.txt\")\n",
    "sentences_folder_path = os.path.join(\"Datasets\", \"iam_words\", \"words\")\n",
    "\n",
    "dataset, vocab, max_len = [], set(), 0\n",
    "letters_dataset = []\n",
    "words = open(sentences_txt_path, \"r\").readlines()\n",
    "ok = 0\n",
    "nok = 0\n",
    "\n",
    "for line in tqdm(words[:8000]):\n",
    "    if line.startswith(\"#\"):\n",
    "        continue\n",
    "\n",
    "    line_split = line.split(\" \")\n",
    "    if line_split[1] == 'err':\n",
    "        continue\n",
    "\n",
    "    folder1 = line_split[0][:3]\n",
    "    folder2 = \"-\".join(line_split[0].split(\"-\")[:2])\n",
    "    file_name = line_split[0] + \".png\"\n",
    "    label = line_split[-1].rstrip(\"\\n\")\n",
    "\n",
    "    rel_path = os.path.join(sentences_folder_path, folder1, folder2, file_name)\n",
    "    if not os.path.exists(rel_path):\n",
    "        print(f\"File not found: {rel_path}\")\n",
    "        continue\n",
    "\n",
    "    dataset.append([rel_path, label])\n",
    "    vocab.update(list(label))\n",
    "    max_len = max(max_len, len(label))\n",
    "\n",
    "    letter_images = extract_letters_from_word_image(rel_path)\n",
    "        \n",
    "    if len(letter_images) != len(label):\n",
    "        print(f\"Mismatch for {rel_path} - SKIPPED\")\n",
    "        nok += 1\n",
    "        continue\n",
    "    else:\n",
    "        print(f\"Success for {rel_path}\")\n",
    "        ok += 1\n",
    "\n",
    "    for img, char in zip(letter_images, label):\n",
    "        letters_dataset.append((img, char))\n",
    "\n",
    "print(f\"OK: {ok} and NOK: {nok}\")"
   ]
  },
  {
   "cell_type": "code",
   "execution_count": null,
   "id": "24fb77ea-a5e3-42a0-b3f0-17e436cbeaa5",
   "metadata": {},
   "outputs": [],
   "source": []
  }
 ],
 "metadata": {
  "kernelspec": {
   "display_name": "Python 3 (ipykernel)",
   "language": "python",
   "name": "python3"
  },
  "language_info": {
   "codemirror_mode": {
    "name": "ipython",
    "version": 3
   },
   "file_extension": ".py",
   "mimetype": "text/x-python",
   "name": "python",
   "nbconvert_exporter": "python",
   "pygments_lexer": "ipython3",
   "version": "3.11.0"
  }
 },
 "nbformat": 4,
 "nbformat_minor": 5
}
